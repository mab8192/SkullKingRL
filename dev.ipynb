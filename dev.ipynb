{
 "cells": [
  {
   "cell_type": "code",
   "execution_count": 1,
   "metadata": {},
   "outputs": [],
   "source": [
    "from skull_king.agents import RLAgent\n",
    "from skull_king.game import *"
   ]
  },
  {
   "cell_type": "code",
   "execution_count": 2,
   "metadata": {},
   "outputs": [
    {
     "name": "stderr",
     "output_type": "stream",
     "text": [
      "c:\\dev\\mab8192\\SkullKingRL\\skull_king\\agents\\rl_agent.py:152: FutureWarning: You are using `torch.load` with `weights_only=False` (the current default value), which uses the default pickle module implicitly. It is possible to construct malicious pickle data which will execute arbitrary code during unpickling (See https://github.com/pytorch/pytorch/blob/main/SECURITY.md#untrusted-models for more details). In a future release, the default value for `weights_only` will be flipped to `True`. This limits the functions that could be executed during unpickling. Arbitrary objects will no longer be allowed to be loaded via this mode unless they are explicitly allowlisted by the user via `torch.serialization.add_safe_globals`. We recommend you start setting `weights_only=True` for any use case where you don't have full control of the loaded file. Please open an issue on GitHub for any issues related to this experimental feature.\n",
      "  checkpoint = torch.load(filepath)\n"
     ]
    }
   ],
   "source": [
    "agent = RLAgent(3)\n",
    "agent.load(\"player_3.torch\")"
   ]
  },
  {
   "cell_type": "code",
   "execution_count": 3,
   "metadata": {},
   "outputs": [],
   "source": [
    "trick = Trick()\n",
    "game_state = {\n",
    "    \"current_round\": 1,\n",
    "    \"player_bets\": [],\n",
    "    \"current_trick\": trick,\n",
    "    \"player_scores\": [0, 0, 0, 0],\n",
    "    \"tricks_taken\": [],\n",
    "    \"cards_played\": [],\n",
    "    \"starting_player\": 1\n",
    "}"
   ]
  },
  {
   "cell_type": "code",
   "execution_count": 8,
   "metadata": {},
   "outputs": [
    {
     "name": "stdout",
     "output_type": "stream",
     "text": [
      "(40)[Number] Yellow 10\n",
      "Go for 0\n"
     ]
    }
   ],
   "source": [
    "deck = Deck()\n",
    "deck.shuffle()\n",
    "\n",
    "hand = Hand()\n",
    "hand.add_card(get_card(\"Yellow 10\"))\n",
    "print(hand)\n",
    "\n",
    "agent.assign_hand(hand)\n",
    "print(f\"Go for {agent.bid(game_state)}\")"
   ]
  }
 ],
 "metadata": {
  "kernelspec": {
   "display_name": "venv",
   "language": "python",
   "name": "python3"
  },
  "language_info": {
   "codemirror_mode": {
    "name": "ipython",
    "version": 3
   },
   "file_extension": ".py",
   "mimetype": "text/x-python",
   "name": "python",
   "nbconvert_exporter": "python",
   "pygments_lexer": "ipython3",
   "version": "3.12.8"
  },
  "orig_nbformat": 4,
  "vscode": {
   "interpreter": {
    "hash": "d6afb1861c19280bc7e2c7cee7f8324dbc53ab4501eb28eee638d5e733c9e5e3"
   }
  }
 },
 "nbformat": 4,
 "nbformat_minor": 2
}
